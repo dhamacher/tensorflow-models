{
 "nbformat": 4,
 "nbformat_minor": 2,
 "metadata": {
  "colab": {
   "name": "regression.ipynb",
   "provenance": [],
   "collapsed_sections": [],
   "authorship_tag": "ABX9TyNAWlTkRMcoCLqD3hbnXcym",
   "include_colab_link": true
  },
  "kernelspec": {
   "name": "python3",
   "display_name": "Python 3"
  },
  "language_info": {
   "name": "python"
  }
 },
 "cells": [
  {
   "cell_type": "markdown",
   "source": [
    "<a href=\"https://colab.research.google.com/github/dhamacher/tensorflow-models/blob/main/functional_api_regression.ipynb\" target=\"_parent\"><img src=\"https://colab.research.google.com/assets/colab-badge.svg\" alt=\"Open In Colab\"/></a>\n",
    "\n",
    "[Keras Functional API](https://keras.io/guides/functional_api/)"
   ],
   "metadata": {
    "id": "view-in-github",
    "colab_type": "text"
   }
  },
  {
   "cell_type": "markdown",
   "source": [
    "# NN Regression with Functional API\r\n",
    "## Purpose\r\n",
    "Showcase the functional API from TensorFLow by building a regression model based on the california housing data set."
   ],
   "metadata": {}
  },
  {
   "cell_type": "code",
   "execution_count": 1,
   "source": [
    "from sklearn.datasets import fetch_california_housing\r\n",
    "from sklearn.model_selection import train_test_split\r\n",
    "from sklearn.preprocessing import StandardScaler"
   ],
   "outputs": [],
   "metadata": {
    "id": "puC09-HJoTI1"
   }
  },
  {
   "cell_type": "code",
   "execution_count": 6,
   "source": [
    "housing_data = fetch_california_housing()\r\n",
    "\r\n",
    "X_train_full, X_test, y_train_full, y_test = train_test_split(\r\n",
    "    housing_data.data, housing_data.target\r\n",
    ")\r\n",
    "\r\n",
    "X_train, X_valid, y_train, y_valid = train_test_split(\r\n",
    "    X_train_full, y_train_full\r\n",
    ")"
   ],
   "outputs": [],
   "metadata": {
    "id": "ENET98-ooycr"
   }
  },
  {
   "cell_type": "code",
   "execution_count": 8,
   "source": [
    "scalar = StandardScaler()\r\n",
    "X_train = scalar.fit_transform(X_train)\r\n",
    "X_valid = scalar.transform(X_valid)\r\n",
    "X_test = scalar.transform(X_test)"
   ],
   "outputs": [],
   "metadata": {
    "id": "Mt7Tk0_7pKAA"
   }
  },
  {
   "cell_type": "markdown",
   "source": [
    "## Create the Layers"
   ],
   "metadata": {}
  },
  {
   "cell_type": "code",
   "execution_count": 11,
   "source": [
    "import tensorflow as tf\r\n",
    "\r\n",
    "input_ = tf.keras.layers.Input(shape=X_train.shape[1:])\r\n",
    "hidden1 = tf.keras.layers.Dense(30, activation='relu')(input_)\r\n",
    "hidden2 = tf.keras.layers.Dense(30, activation='relu')(hidden1)\r\n",
    "concat = tf.keras.layers.Concatenate()([input_, hidden2])\r\n",
    "output = tf.keras.layers.Dense(1)(concat)\r\n",
    "\r\n",
    "model = tf.keras.Model(input=[input_], outputs=[output])"
   ],
   "outputs": [],
   "metadata": {
    "id": "-GhV2ZN2pNHx"
   }
  },
  {
   "cell_type": "markdown",
   "source": [
    "## Compile the Model"
   ],
   "metadata": {}
  },
  {
   "cell_type": "code",
   "execution_count": 12,
   "source": [
    "model.compile(loss='mean_squared_error', optimizer='sgd')"
   ],
   "outputs": [],
   "metadata": {
    "id": "3dMn12L4pTyB"
   }
  },
  {
   "cell_type": "markdown",
   "source": [
    "## Train the Model"
   ],
   "metadata": {}
  },
  {
   "cell_type": "code",
   "execution_count": 13,
   "source": [
    "history = model.fit(X_train, y_train, epochs=30, validation_data=(X_valid, y_valid))"
   ],
   "outputs": [
    {
     "output_type": "stream",
     "name": "stdout",
     "text": [
      "Epoch 1/30\n",
      "363/363 [==============================] - 1s 2ms/step - loss: 0.8172 - val_loss: 0.5790\n",
      "Epoch 2/30\n",
      "363/363 [==============================] - 1s 2ms/step - loss: 0.4439 - val_loss: 0.5152\n",
      "Epoch 3/30\n",
      "363/363 [==============================] - 1s 2ms/step - loss: 0.4017 - val_loss: 0.7111\n",
      "Epoch 4/30\n",
      "363/363 [==============================] - 1s 2ms/step - loss: 0.3853 - val_loss: 0.3934\n",
      "Epoch 5/30\n",
      "363/363 [==============================] - 1s 1ms/step - loss: 0.3747 - val_loss: 0.5756\n",
      "Epoch 6/30\n",
      "363/363 [==============================] - 1s 1ms/step - loss: 0.3687 - val_loss: 0.4324\n",
      "Epoch 7/30\n",
      "363/363 [==============================] - 1s 2ms/step - loss: 0.3665 - val_loss: 0.5303\n",
      "Epoch 8/30\n",
      "363/363 [==============================] - 1s 1ms/step - loss: 0.3614 - val_loss: 0.3813\n",
      "Epoch 9/30\n",
      "363/363 [==============================] - 1s 1ms/step - loss: 0.3585 - val_loss: 0.3837\n",
      "Epoch 10/30\n",
      "363/363 [==============================] - 1s 2ms/step - loss: 0.3546 - val_loss: 0.6718\n",
      "Epoch 11/30\n",
      "363/363 [==============================] - 1s 1ms/step - loss: 0.3552 - val_loss: 0.3641\n",
      "Epoch 12/30\n",
      "363/363 [==============================] - 1s 2ms/step - loss: 0.3511 - val_loss: 0.3954\n",
      "Epoch 13/30\n",
      "363/363 [==============================] - 1s 1ms/step - loss: 0.3498 - val_loss: 0.6157\n",
      "Epoch 14/30\n",
      "363/363 [==============================] - 1s 1ms/step - loss: 0.3487 - val_loss: 0.7695\n",
      "Epoch 15/30\n",
      "363/363 [==============================] - 1s 1ms/step - loss: 0.3491 - val_loss: 0.9581\n",
      "Epoch 16/30\n",
      "363/363 [==============================] - 1s 2ms/step - loss: 0.3450 - val_loss: 1.7865\n",
      "Epoch 17/30\n",
      "363/363 [==============================] - 1s 2ms/step - loss: 0.3438 - val_loss: 1.8228\n",
      "Epoch 18/30\n",
      "363/363 [==============================] - 1s 1ms/step - loss: 0.3441 - val_loss: 0.3580\n",
      "Epoch 19/30\n",
      "363/363 [==============================] - 1s 1ms/step - loss: 0.3431 - val_loss: 0.7676\n",
      "Epoch 20/30\n",
      "363/363 [==============================] - 1s 1ms/step - loss: 0.3419 - val_loss: 0.3614\n",
      "Epoch 21/30\n",
      "363/363 [==============================] - 1s 2ms/step - loss: 0.3409 - val_loss: 1.3548\n",
      "Epoch 22/30\n",
      "363/363 [==============================] - 1s 2ms/step - loss: 0.3415 - val_loss: 0.3666\n",
      "Epoch 23/30\n",
      "363/363 [==============================] - 1s 2ms/step - loss: 0.3375 - val_loss: 0.6082\n",
      "Epoch 24/30\n",
      "363/363 [==============================] - 1s 1ms/step - loss: 0.3386 - val_loss: 2.1967\n",
      "Epoch 25/30\n",
      "363/363 [==============================] - 1s 2ms/step - loss: 0.3397 - val_loss: 0.5114\n",
      "Epoch 26/30\n",
      "363/363 [==============================] - 1s 1ms/step - loss: 0.3415 - val_loss: 0.9950\n",
      "Epoch 27/30\n",
      "363/363 [==============================] - 1s 2ms/step - loss: 0.3355 - val_loss: 0.3553\n",
      "Epoch 28/30\n",
      "363/363 [==============================] - 1s 1ms/step - loss: 0.3330 - val_loss: 0.3625\n",
      "Epoch 29/30\n",
      "363/363 [==============================] - 1s 2ms/step - loss: 0.3325 - val_loss: 0.3483\n",
      "Epoch 30/30\n",
      "363/363 [==============================] - 1s 2ms/step - loss: 0.3312 - val_loss: 4.0947\n"
     ]
    }
   ],
   "metadata": {
    "colab": {
     "base_uri": "https://localhost:8080/"
    },
    "id": "5XXrpStaqn11",
    "outputId": "8534e7d7-4188-4b45-8ce1-b96ab4952b39"
   }
  },
  {
   "cell_type": "markdown",
   "source": [
    "## Visualize"
   ],
   "metadata": {}
  },
  {
   "cell_type": "code",
   "execution_count": 15,
   "source": [
    "import pandas as pd\r\n",
    "import matplotlib.pyplot as plt \r\n",
    "\r\n",
    "pd.DataFrame(history.history).plot(figsize=(10,7))\r\n",
    "plt.grid(True)\r\n",
    "plt.gca().set_ylim(0,1)\r\n",
    "plt.show()\r\n"
   ],
   "outputs": [
    {
     "output_type": "display_data",
     "data": {
      "text/plain": [
       "<Figure size 720x504 with 1 Axes>"
      ],
      "image/png": "[encoded data removed]"
     },
     "metadata": {
      "tags": [],
      "needs_background": "light"
     }
    }
   ],
   "metadata": {
    "colab": {
     "base_uri": "https://localhost:8080/",
     "height": 432
    },
    "id": "VQUUGCzQq1c-",
    "outputId": "adb3fa70-3d8e-4866-8b75-576591e0bc30"
   }
  },
  {
   "cell_type": "markdown",
   "source": [
    "## Evaluate the Model"
   ],
   "metadata": {}
  },
  {
   "cell_type": "code",
   "execution_count": 16,
   "source": [
    "mse_test = model.evaluate(X_test, y_test)"
   ],
   "outputs": [
    {
     "output_type": "stream",
     "name": "stdout",
     "text": [
      "162/162 [==============================] - 0s 1ms/step - loss: 0.4467\n"
     ]
    }
   ],
   "metadata": {
    "colab": {
     "base_uri": "https://localhost:8080/"
    },
    "id": "K6XT2dLBrQmP",
    "outputId": "f71bb021-d072-4e95-88fa-3503e21f536e"
   }
  },
  {
   "cell_type": "markdown",
   "source": [
    "## Make Predictions"
   ],
   "metadata": {}
  },
  {
   "cell_type": "code",
   "execution_count": 19,
   "source": [
    "X_new = X_test[:3]\r\n",
    "y_hat = model.predict(X_new)\r\n",
    "y_hat"
   ],
   "outputs": [
    {
     "output_type": "execute_result",
     "data": {
      "text/plain": [
       "array([[0.9059441 ],\n",
       "       [0.66080743],\n",
       "       [1.4518293 ]], dtype=float32)"
      ]
     },
     "metadata": {
      "tags": []
     },
     "execution_count": 19
    }
   ],
   "metadata": {
    "colab": {
     "base_uri": "https://localhost:8080/"
    },
    "id": "-n4sg43TrYPF",
    "outputId": "8d6be1cb-0fd9-4784-9a42-ae29d80bdaa5"
   }
  },
  {
   "cell_type": "code",
   "execution_count": null,
   "source": [],
   "outputs": [],
   "metadata": {
    "id": "KOQqa9wrri64"
   }
  }
 ]
}